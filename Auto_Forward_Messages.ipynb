{
  "cells": [
    {
      "attachments": {},
      "cell_type": "markdown",
      "metadata": {
        "colab_type": "text",
        "id": "view-in-github"
      },
      "source": [
        "<a href=\"https://colab.research.google.com/github/Drrivao/Clonechat-Telegram-Colab/blob/main/Auto_Forward_Messages.ipynb\" target=\"_parent\"><img src=\"https://colab.research.google.com/assets/colab-badge.svg\" alt=\"Open In Colab\"/></a>"
      ]
    },
    {
      "cell_type": "code",
      "execution_count": null,
      "metadata": {
        "cellView": "form",
        "id": "ytg4-4lmAhvs"
      },
      "outputs": [],
      "source": [
        "#@title *Start*\n",
        "from os.path import (\n",
        "  join,exists,split\n",
        ")\n",
        "from subprocess import run\n",
        "from google.colab import drive\n",
        "\n",
        "drive.mount('/content/drive/')\n",
        "dir=\"/content/drive/MyDrive/Auto-Forward-Messages\"\n",
        "\n",
        "cmd1=\"add-apt-repository ppa:deadsnakes/ppa;apt-get update;apt-get install python3.11;\"+\\\n",
        "\"apt-get install python3.11-dev;wget https://bootstrap.pypa.io/get-pip.py && python3.11 get-pip.py\"\n",
        "cmd2='git clone https://github.com/Drrivao/Auto-Forward-Messages'\n",
        "cmd3='python3.11 -m pip install tgcrypto https://github.com/Drrivao/pyrogram/archive/refs/heads/master.zip'\n",
        "cmd4='mv Auto-Forward-Messages /content/drive/MyDrive'\n",
        "\n",
        "run(cmd1,shell=True)\n",
        "if not exists(dir):\n",
        "  for cmd in [cmd2,cmd3,cmd4]:\n",
        "    run(cmd,shell=True)\n",
        "else:run(cmd3,shell=True)\n",
        "\n",
        "%cd $dir"
      ]
    },
    {
      "cell_type": "code",
      "execution_count": 7,
      "metadata": {
        "cellView": "form",
        "colab": {
          "base_uri": "https://localhost:8080/"
        },
        "id": "P_vhraErvs9s",
        "outputId": "29dbc68d-cfd7-429f-e39a-d2077a03b85a"
      },
      "outputs": [
        {
          "name": "stdout",
          "output_type": "stream",
          "text": [
            "\u001b[H\u001b[2J"
          ]
        }
      ],
      "source": [
        "#@title *Credenciais*\n",
        "\n",
        "API_ID=\"YOUR API ID HERE\" #@param {type:\"string\"}\n",
        "API_HASH=\"YOUR API HASH HERE\" #@param {type:\"string\"}\n",
        "BOT_TOKEN=\"YOUR BOT TOKEN HERE\" #@param {type:\"string\"}\n",
        "\n",
        "if BOT_TOKEN == \"YOUR BOT TOKEN HERE\"\\\n",
        "or BOT_TOKEN == \"\":BOT_TOKEN=\"\"\n",
        "else:BOT_TOKEN=f\"-b '{BOT_TOKEN}'\"\n",
        "\n",
        "API_ID=f\"-i '{API_ID}'\"\n",
        "API_HASH=f\"-s '{API_HASH}'\"\n",
        "\n",
        "!python3.11 auto_forward_messages.py $API_ID $API_HASH $BOT_TOKEN"
      ]
    },
    {
      "cell_type": "code",
      "execution_count": null,
      "metadata": {
        "cellView": "form",
        "id": "1koiNrYQ9POu"
      },
      "outputs": [],
      "source": [
        "#@title  *Clonar canal*\n",
        "\n",
        "ORIG = \"ORIGIN CHAT TITLE\" #@param {type:\"raw\"}\n",
        "DEST = \"DESTINATION CHAT TITLE (LET IT EMPTY TO CREATE A NEW CHANNEL)\" #@param [\"\\\"auto\\\"\"] {type:\"raw\", allow-input: true}\n",
        "\n",
        "MODE=\"user\" #@param [\"user\",\"bot\"]\n",
        "FILTER = \"all types\" #@param [\"all types\", \"photo\", \"text\", \"document\", \"sticker\", \"animation\", \"audio\", \"voice\", \"video\", \"poll\"] {allow-input: true}\n",
        "QUERY = None #@param [] {type:\"raw\", allow-input: true}\n",
        "LIMIT = 0 #@param {type:\"integer\"}\n",
        "RESUME = True #@param {type:\"boolean\"}\n",
        "LIVE = False #@param {type:\"boolean\"}\n",
        "if LIMIT < 0: LIMIT=LIMIT*-1\n",
        "\n",
        "ORIG=f\"-o '{ORIG}'\"\n",
        "DEST=f\"-d '{DEST}'\" if DEST\\\n",
        "is not None else \"\"\n",
        "MODE=f\"-m {MODE}\"\n",
        "QUERY=f\"-q '{QUERY}'\" if QUERY\\\n",
        "is not None else \"\"\n",
        "RESUME=f\"-r\" if RESUME\\\n",
        "is True else \"\"\n",
        "LIVE=f\"-u\" if LIVE\\\n",
        "is True else \"\"\n",
        "LIMIT=f\"-l {LIMIT}\"\n",
        "FILTER=f\"-f '{FILTER}'\" if FILTER\\\n",
        "!= \"all types\" else \"\"\n",
        "\n",
        "!python3.11 auto_forward_messages.py $ORIG $DEST $MODE $QUERY\\\n",
        "$RESUME $LIMIT $FILTER $LIVE"
      ]
    }
  ],
  "metadata": {
    "colab": {
      "collapsed_sections": [],
      "include_colab_link": true,
      "provenance": []
    },
    "kernelspec": {
      "display_name": "Python 3.11.0rc2 64-bit",
      "language": "python",
      "name": "python3"
    },
    "language_info": {
      "name": "python",
      "version": "3.11.0"
    },
    "vscode": {
      "interpreter": {
        "hash": "e7370f93d1d0cde622a1f8e1c04877d8463912d04d973331ad4851f04de6915a"
      }
    }
  },
  "nbformat": 4,
  "nbformat_minor": 0
}
