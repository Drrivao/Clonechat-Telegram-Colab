{
  "cells": [
    {
      "cell_type": "markdown",
      "metadata": {
        "colab_type": "text",
        "id": "view-in-github"
      },
      "source": [
        "<a href=\"https://colab.research.google.com/github/Drrivao/Clonechat-Telegram-Colab/blob/main/Clonechat_Telegram_Colab.ipynb\" target=\"_parent\"><img src=\"https://colab.research.google.com/assets/colab-badge.svg\" alt=\"Open In Colab\"/></a>"
      ]
    },
    {
      "cell_type": "code",
      "execution_count": null,
      "metadata": {
        "cellView": "form",
        "id": "ytg4-4lmAhvs"
      },
      "outputs": [],
      "source": [
        "#@title *Start*\n",
        "from os.path import (\n",
        "  join,exists,split\n",
        ")\n",
        "from subprocess import run\n",
        "from google.colab import drive\n",
        "\n",
        "dir=\"/content/drive/MyDrive/Clonechat-Telegram-Colab\"\n",
        "dir_=split(dir)[0]\n",
        "\n",
        "cmd1='git clone https://github.com/Drrivao/Clonechat-Telegram-Colab'\n",
        "cmd2='pip install pyrogram tgcrypto'\n",
        "cmd3='mv Clonechat-Telegram-Colab /content/drive/MyDrive'\n",
        "\n",
        "if not exists(dir_):\n",
        "  drive.mount(dir_)\n",
        "if not exists(dir):\n",
        "  for i in [cmd1,cmd2,cmd3]:\n",
        "    run(i,shell=True)\n",
        "else:run(cmd2)\n",
        "\n",
        "%cd $dir"
      ]
    },
    {
      "cell_type": "code",
      "execution_count": null,
      "metadata": {
        "cellView": "form",
        "id": "P_vhraErvs9s"
      },
      "outputs": [],
      "source": [
        "#@title *Credenciais*\n",
        "\n",
        "API_ID=\"PUT YOUR API ID HERE\" #@param {type:\"string\"}\n",
        "API_HASH=\"PUT YOUR API HASH HERE\" #@param {type:\"string\"}\n",
        "BOT_TOKEN=\"PUT YOUR BOT TOKEN HERE\" #@param {type:\"string\"}\n",
        "\n",
        "if BOT_TOKEN == \"\" or BOT_TOKEN == \"PUT YOUR BOT TOKEN HERE\":\n",
        "    BOT_TOKEN='blank'\n",
        "\n",
        "!python configs.py --api_id $API_ID --api_hash $API_HASH \\\n",
        "--bot_token $BOT_TOKEN"
      ]
    },
    {
      "cell_type": "code",
      "execution_count": null,
      "metadata": {
        "cellView": "form",
        "id": "1koiNrYQ9POu"
      },
      "outputs": [],
      "source": [
        "#@title  *Clonar canal*\n",
        "\n",
        "ORIG = \"NOME DO CANAL PARA CLONAR\" #@param {type:\"raw\"}\n",
        "DEST = \"NOME DO CANAL DE DESTINO\" #@param [\"\\\"auto\\\"\"] {type:\"raw\", allow-input: true}\n",
        "\n",
        "MODE=\"user\" #@param [\"user\",\"bot\"]\n",
        "NEW = 1 #@param [\"1\", \"2\"] {type:\"raw\"}\n",
        "TYPE = 0 #@param [\"0\", \"1\", \"2\", \"3\", \"4\", \"5\", \"6\", \"7\", \"8\", \"9\"] {type:\"raw\", allow-input: true}\n",
        "LIMIT = 0 #@param {type:\"integer\"}\n",
        "\n",
        "DEST=f\"'{DEST}'\"\n",
        "TYPE=f\"'{TYPE}'\"\n",
        "if LIMIT < 0: LIMIT*-1\n",
        "\n",
        "!python clonechat.py --orig $ORIG --dest $DEST --type $TYPE \\\n",
        "--mode $MODE --new $NEW --limit $LIMIT"
      ]
    }
  ],
  "metadata": {
    "colab": {
      "authorship_tag": "ABX9TyP/G4I92EcMKKBcVITyMIBf",
      "collapsed_sections": [],
      "include_colab_link": true,
      "provenance": []
    },
    "kernelspec": {
      "display_name": "Python 3",
      "name": "python3"
    },
    "language_info": {
      "name": "python"
    }
  },
  "nbformat": 4,
  "nbformat_minor": 0
}
