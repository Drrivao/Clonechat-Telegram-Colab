{
  "nbformat": 4,
  "nbformat_minor": 0,
  "metadata": {
    "colab": {
      "provenance": [],
      "collapsed_sections": []
    },
    "kernelspec": {
      "name": "python3",
      "display_name": "Python 3"
    },
    "language_info": {
      "name": "python"
    }
  },
  "cells": [
    {
      "cell_type": "code",
      "source": [
        "#@title *Start*\n",
        "import os\n",
        "from google.colab import drive\n",
        "\n",
        "if not os.path.exists('/content/drive'):\n",
        "  drive.mount('/content/drive')\n",
        "\n",
        "if not os.path.exists('/content/drive/MyDrive/Clonechat-Telegram-Colab'):\n",
        "  os.system(\n",
        "      'git clone https://github.com/Drrivao/Clonechat-Telegram-Colab;\\\n",
        "      mv /content/Clonechat-Telegram-Colab /content/drive/MyDrive/'\n",
        "  )\n",
        "\n",
        "if not os.path.exists('/usr/local/lib/python3.7/dist-packages/pyrogram'):\n",
        "  os.system('pip install pyrogram tgcrypto')\n",
        "\n",
        "%cd /content/drive/MyDrive/'Clonechat-Telegram-Colab'"
      ],
      "metadata": {
        "id": "ytg4-4lmAhvs",
        "cellView": "form"
      },
      "execution_count": null,
      "outputs": []
    },
    {
      "cell_type": "code",
      "source": [
        "#@title *Credenciais*\n",
        "\n",
        "API_ID=\"PUT YOUR API ID HERE\" #@param {type:\"string\"}\n",
        "API_HASH=\"PUT YOUR API HASH HERE\" #@param {type:\"string\"}\n",
        "BOT_TOKEN=\"PUT YOUR BOT TOKEN HERE\" #@param {type:\"string\"}\n",
        "\n",
        "if API_ID is not '': flag_1=f\"--api_id {API_ID}\"\n",
        "if API_HASH is not '': flag_2=f\"--api_hash {API_HASH}\"\n",
        "if BOT_TOKEN is not '': flag_3=f\"--bot_token {BOT_TOKEN}\"\n",
        "\n",
        "!python configs.py $flag_1 $flag_2 $flag_3"
      ],
      "metadata": {
        "cellView": "form",
        "id": "P_vhraErvs9s"
      },
      "execution_count": null,
      "outputs": []
    },
    {
      "cell_type": "code",
      "source": [
        "#@title  *Clonar canal*\n",
        "\n",
        "ORIG = \"NOME DO CANAL PARA CLONAR\" #@param {type:\"raw\"}\n",
        "DEST = \"NOME DO CANAL DE DESTINO\" #@param {type:\"raw\"}\n",
        "\n",
        "MODE=\"user\" #@param [\"user\",\"bot\"]\n",
        "NEW = 1 #@param [\"1\", \"2\"] {type:\"raw\"}\n",
        "TYPE = 0 #@param [\"0\", \"1\", \"2\", \"3\", \"4\", \"5\", \"6\", \"7\", \"8\", \"9\"] {type:\"raw\", allow-input: true}\n",
        "\n",
        "if DEST is None: flag_B=''\n",
        "else: flag_B=f\"--dest '{DEST}'\"\n",
        "\n",
        "if TYPE is None: flag_C=''\n",
        "else: flag_C=f\"--type '{TYPE}'\"\n",
        "\n",
        "flag_A=f\"--orig '{ORIG}'\"\n",
        "flag_D=f\"--mode {MODE}\"\n",
        "flag_E=f\"--new {NEW}\"\n",
        "\n",
        "!python clonechat.py $flag_A $flag_B $flag_C $flag_D $flag_E"
      ],
      "metadata": {
        "cellView": "form",
        "id": "1koiNrYQ9POu"
      },
      "execution_count": null,
      "outputs": []
    }
  ]
}