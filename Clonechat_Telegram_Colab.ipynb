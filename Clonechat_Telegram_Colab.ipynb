{
  "cells": [
    {
      "cell_type": "markdown",
      "metadata": {
        "colab_type": "text",
        "id": "view-in-github"
      },
      "source": [
        "<a href=\"https://colab.research.google.com/github/Drrivao/Clonechat-Telegram-Colab/blob/main/Clonechat_Telegram_Colab.ipynb\" target=\"_parent\"><img src=\"https://colab.research.google.com/assets/colab-badge.svg\" alt=\"Open In Colab\"/></a>"
      ]
    },
    {
      "cell_type": "code",
      "execution_count": null,
      "metadata": {
        "cellView": "form",
        "id": "ytg4-4lmAhvs"
      },
      "outputs": [],
      "source": [
        "#@title *Start*\n",
        "import os\n",
        "from google.colab import drive\n",
        "\n",
        "if not os.path.exists('/content/drive'):\n",
        "  drive.mount('/content/drive')\n",
        "\n",
        "if not os.path.exists('/content/drive/MyDrive/Clonechat-Telegram-Colab'):\n",
        "  os.system(\n",
        "      'git clone https://github.com/Drrivao/Clonechat-Telegram-Colab;\\\n",
        "      mv /content/Clonechat-Telegram-Colab /content/drive/MyDrive/'\n",
        "  )\n",
        "\n",
        "if not os.path.exists('/usr/local/lib/python3.7/dist-packages/pyrogram'):\n",
        "  os.system('pip install pyrogram tgcrypto')\n",
        "\n",
        "%cd /content/drive/MyDrive/'Clonechat-Telegram-Colab'"
      ]
    },
    {
      "cell_type": "code",
      "execution_count": null,
      "metadata": {
        "cellView": "form",
        "id": "P_vhraErvs9s"
      },
      "outputs": [],
      "source": [
        "#@title *Credenciais*\n",
        "\n",
        "API_ID=\"PUT YOUR API ID HERE\" #@param {type:\"string\"}\n",
        "API_HASH=\"PUT YOUR API HASH HERE\" #@param {type:\"string\"}\n",
        "BOT_TOKEN=\"PUT YOUR BOT TOKEN HERE\" #@param {type:\"string\"}\n",
        "\n",
        "if BOT_TOKEN == \"\" or BOT_TOKEN == \"PUT YOUR BOT TOKEN HERE\":\n",
        "    BOT_TOKEN='blank'\n",
        "\n",
        "!python configs.py \\\n",
        "--api_id $API_ID \\\n",
        "--api_hash $API_HASH \\\n",
        "--bot_token $BOT_TOKEN"
      ]
    },
    {
      "cell_type": "code",
      "execution_count": null,
      "metadata": {
        "cellView": "form",
        "id": "1koiNrYQ9POu"
      },
      "outputs": [],
      "source": [
        "#@title  *Clonar canal*\n",
        "\n",
        "ORIG = \"NOME DO CANAL PARA CLONAR\" #@param {type:\"raw\"}\n",
        "DEST = \"NOME DO CANAL DE DESTINO\" #@param [\"\\\"auto\\\"\"] {type:\"raw\", allow-input: true}\n",
        "\n",
        "MODE=\"user\" #@param [\"user\",\"bot\"]\n",
        "NEW = 1 #@param [\"1\", \"2\"] {type:\"raw\"}\n",
        "TYPE = 0 #@param [\"0\", \"1\", \"2\", \"3\", \"4\", \"5\", \"6\", \"7\", \"8\", \"9\"] {type:\"raw\", allow-input: true}\n",
        "LIMIT = 0 #@param {type:\"integer\"}\n",
        "\n",
        "if DEST=='auto': flag_B=''\n",
        "else: flag_B=f\"--dest '{DEST}'\"\n",
        "\n",
        "if TYPE is None: flag_C=''\n",
        "else: flag_C=f\"--type '{TYPE}'\"\n",
        "\n",
        "if LIMIT < 0: LIMIT*-1\n",
        "\n",
        "!python clonechat.py --orig $ORIG $flag_B $flag_C --mode $MODE --new $NEW --limit $LIMIT"
      ]
    }
  ],
  "metadata": {
    "colab": {
      "authorship_tag": "ABX9TyP/G4I92EcMKKBcVITyMIBf",
      "collapsed_sections": [],
      "include_colab_link": true,
      "provenance": []
    },
    "kernelspec": {
      "display_name": "Python 3",
      "name": "python3"
    },
    "language_info": {
      "name": "python"
    }
  },
  "nbformat": 4,
  "nbformat_minor": 0
}
